{
 "cells": [
  {
   "cell_type": "code",
   "execution_count": 1,
   "metadata": {},
   "outputs": [
    {
     "name": "stderr",
     "output_type": "stream",
     "text": [
      "d:\\softwares\\anaconda\\envs\\lxz\\lib\\site-packages\\tqdm\\auto.py:22: TqdmWarning: IProgress not found. Please update jupyter and ipywidgets. See https://ipywidgets.readthedocs.io/en/stable/user_install.html\n",
      "  from .autonotebook import tqdm as notebook_tqdm\n"
     ]
    }
   ],
   "source": [
    "import pandas as pd\n",
    "import numpy as np\n",
    "\n",
    "from sklearn.feature_extraction.text import TfidfVectorizer,CountVectorizer\n",
    "from sklearn.linear_model import SGDClassifier, LogisticRegression\n",
    "from sklearn.ensemble import RandomForestClassifier, GradientBoostingClassifier\n",
    "from sklearn.naive_bayes import MultinomialNB\n",
    "from sklearn.svm import SVC\n",
    "from sklearn.metrics import accuracy_score\n",
    "\n",
    "import torch\n",
    "import torch.nn as nn\n",
    "from torch.nn.utils.rnn import pad_sequence\n",
    "from torchtext.data import get_tokenizer\n",
    "import torch.nn.functional as F\n",
    "from torch.utils.data import Dataset\n",
    "from torch.utils.data import DataLoader\n",
    "\n",
    "from torchtext.vocab import GloVe\n",
    "\n",
    "from sklearn.feature_extraction.text import CountVectorizer\n",
    "\n",
    "from keras.utils import np_utils\n",
    "\n",
    "import matplotlib.pyplot as plt\n",
    "\n",
    "%matplotlib inline\n",
    "plt.style.use('ggplot')"
   ]
  },
  {
   "cell_type": "code",
   "execution_count": 23,
   "metadata": {},
   "outputs": [],
   "source": [
    "df_train = pd.read_csv('Combined_train.csv')\n",
    "df_valid = pd.read_csv('Combined_valid.csv')\n",
    "df_test = pd.read_csv('Combined_test.csv')\n",
    "\n",
    "start = 0\n",
    "end = 25\n",
    "# end = 1\n",
    "\n",
    "dataset = []\n",
    "for row in range(0,len(df_train.index)):\n",
    "    dataset.append(' '.join(str(x)[2:-1] for x in df_train.iloc[row,start+3:end+3]))\n",
    "train_size = len(dataset)\n",
    "for row in range(0,len(df_valid.index)):\n",
    "    dataset.append(' '.join(str(x)[2:-1] for x in df_valid.iloc[row,start+3:end+3]))\n",
    "valid_size = len(dataset) - train_size\n",
    "for row in range(0,len(df_test.index)):\n",
    "    dataset.append(' '.join(str(x)[2:-1] for x in df_test.iloc[row,start+3:end+3]))\n",
    "test_size = len(dataset) - train_size - valid_size\n",
    "\n",
    "acc_list = []\n",
    "name_list = []"
   ]
  },
  {
   "attachments": {},
   "cell_type": "markdown",
   "metadata": {},
   "source": [
    "## Logic Regression 1"
   ]
  },
  {
   "cell_type": "code",
   "execution_count": 24,
   "metadata": {},
   "outputs": [
    {
     "name": "stdout",
     "output_type": "stream",
     "text": [
      "train data size (1591, 41004)\n",
      "valid data size: (199, 41004)\n",
      "test data size: (199, 41004)\n"
     ]
    }
   ],
   "source": [
    "vectorizer = CountVectorizer()\n",
    "all_data = vectorizer.fit_transform(dataset)\n",
    "train_data = all_data[:train_size]\n",
    "valid_data = all_data[train_size:train_size+valid_size]\n",
    "test_data = all_data[train_size+valid_size:]\n",
    "print(\"train data size\", train_data.shape)\n",
    "print(\"valid data size:\", valid_data.shape)\n",
    "print(\"test data size:\", test_data.shape)"
   ]
  },
  {
   "cell_type": "code",
   "execution_count": 25,
   "metadata": {},
   "outputs": [
    {
     "name": "stderr",
     "output_type": "stream",
     "text": [
      "d:\\softwares\\anaconda\\envs\\lxz\\lib\\site-packages\\sklearn\\linear_model\\_logistic.py:818: ConvergenceWarning: lbfgs failed to converge (status=1):\n",
      "STOP: TOTAL NO. of ITERATIONS REACHED LIMIT.\n",
      "\n",
      "Increase the number of iterations (max_iter) or scale the data as shown in:\n",
      "    https://scikit-learn.org/stable/modules/preprocessing.html\n",
      "Please also refer to the documentation for alternative solver options:\n",
      "    https://scikit-learn.org/stable/modules/linear_model.html#logistic-regression\n",
      "  extra_warning_msg=_LOGISTIC_SOLVER_CONVERGENCE_MSG,\n"
     ]
    }
   ],
   "source": [
    "model = LogisticRegression()\n",
    "model = model.fit(train_data, df_train[\"Label\"])"
   ]
  },
  {
   "cell_type": "code",
   "execution_count": 26,
   "metadata": {},
   "outputs": [
    {
     "name": "stdout",
     "output_type": "stream",
     "text": [
      "Logic Regression(basic) accuracy:  0.4623115577889447\n"
     ]
    }
   ],
   "source": [
    "preds = model.predict(test_data)\n",
    "acc1 = accuracy_score(df_test['Label'], preds)\n",
    "print('Logic Regression(basic) accuracy: ', acc1)\n",
    "# acc_list.append(acc1)\n",
    "# name_list.append(\"Logic Regression(basic)\")"
   ]
  },
  {
   "attachments": {},
   "cell_type": "markdown",
   "metadata": {},
   "source": [
    "## Logic Regression 2"
   ]
  },
  {
   "attachments": {},
   "cell_type": "markdown",
   "metadata": {},
   "source": [
    "Input: the counts of phrases with two connected words(exclude words which are too common like \"a\" ,\"an\" ,\"the\" and words too uncommon of which counts are too small )"
   ]
  },
  {
   "cell_type": "code",
   "execution_count": 27,
   "metadata": {},
   "outputs": [
    {
     "name": "stdout",
     "output_type": "stream",
     "text": [
      "train data size (1591, 595)\n",
      "valid data size: (199, 595)\n",
      "test data size: (199, 595)\n"
     ]
    }
   ],
   "source": [
    "advancedvectorizer = TfidfVectorizer( min_df=0.03, max_df=0.97, max_features = 200000, ngram_range = (2, 2))\n",
    "all_data = advancedvectorizer.fit_transform(dataset)\n",
    "train_data = all_data[:train_size]\n",
    "valid_data = all_data[train_size:train_size+valid_size]\n",
    "test_data = all_data[train_size+valid_size:]\n",
    "print(\"train data size\", train_data.shape)\n",
    "print(\"valid data size:\", valid_data.shape)\n",
    "print(\"test data size:\", test_data.shape)"
   ]
  },
  {
   "cell_type": "code",
   "execution_count": 28,
   "metadata": {},
   "outputs": [
    {
     "name": "stdout",
     "output_type": "stream",
     "text": [
      "valid accuracy:  0.5728643216080402\n"
     ]
    }
   ],
   "source": [
    "model = LogisticRegression()\n",
    "model = model.fit(train_data, df_train[\"Label\"])\n",
    "preds = model.predict(valid_data)\n",
    "acc = accuracy_score(df_valid['Label'], preds)\n",
    "print('valid accuracy: ', acc)"
   ]
  },
  {
   "cell_type": "code",
   "execution_count": 29,
   "metadata": {},
   "outputs": [
    {
     "name": "stdout",
     "output_type": "stream",
     "text": [
      "Logic Regression accuracy:  0.5728643216080402\n"
     ]
    }
   ],
   "source": [
    "preds = model.predict(test_data)\n",
    "acc2 = accuracy_score(df_test['Label'], preds)\n",
    "print('Logic Regression accuracy: ', acc2)\n",
    "acc_list.append(acc2)\n",
    "name_list.append(\"LR\")"
   ]
  },
  {
   "attachments": {},
   "cell_type": "markdown",
   "metadata": {},
   "source": [
    "## Naive Bayes"
   ]
  },
  {
   "cell_type": "code",
   "execution_count": 9,
   "metadata": {},
   "outputs": [
    {
     "name": "stdout",
     "output_type": "stream",
     "text": [
      "train data size (1591, 625)\n",
      "valid data size: (199, 625)\n",
      "test data size: (199, 625)\n"
     ]
    }
   ],
   "source": [
    "advancedvectorizer = TfidfVectorizer(min_df=0.03, max_df=0.5, max_features = 200000, ngram_range = (2, 3))\n",
    "all_data = advancedvectorizer.fit_transform(dataset)\n",
    "train_data = all_data[:train_size]\n",
    "valid_data = all_data[train_size:train_size+valid_size]\n",
    "test_data = all_data[train_size+valid_size:]\n",
    "print(\"train data size\", train_data.shape)\n",
    "print(\"valid data size:\", valid_data.shape)\n",
    "print(\"test data size:\", test_data.shape)"
   ]
  },
  {
   "cell_type": "code",
   "execution_count": 10,
   "metadata": {},
   "outputs": [
    {
     "name": "stdout",
     "output_type": "stream",
     "text": [
      "valid accuracy:  0.5326633165829145\n"
     ]
    }
   ],
   "source": [
    "model = MultinomialNB(alpha=0.0001)\n",
    "model = model.fit(train_data, df_train[\"Label\"])\n",
    "preds = model.predict(valid_data)\n",
    "acc = accuracy_score(df_valid['Label'], preds)\n",
    "print('valid accuracy: ', acc)"
   ]
  },
  {
   "cell_type": "code",
   "execution_count": 11,
   "metadata": {},
   "outputs": [
    {
     "name": "stdout",
     "output_type": "stream",
     "text": [
      "Naive Bayes accuracy:  0.6030150753768844\n"
     ]
    }
   ],
   "source": [
    "preds = model.predict(test_data)\n",
    "acc3 = accuracy_score(df_test['Label'], preds)\n",
    "print('Naive Bayes accuracy: ', acc3)\n",
    "acc_list.append(acc3)\n",
    "name_list.append(\"NB\")"
   ]
  },
  {
   "attachments": {},
   "cell_type": "markdown",
   "metadata": {},
   "source": [
    "## Random Forest"
   ]
  },
  {
   "cell_type": "code",
   "execution_count": 12,
   "metadata": {},
   "outputs": [
    {
     "name": "stdout",
     "output_type": "stream",
     "text": [
      "train data size (1591, 625)\n",
      "valid data size: (199, 625)\n",
      "test data size: (199, 625)\n"
     ]
    }
   ],
   "source": [
    "advancedvectorizer = TfidfVectorizer(min_df=0.03, max_df=0.5, max_features = 200000, ngram_range = (2, 3))\n",
    "all_data = advancedvectorizer.fit_transform(dataset)\n",
    "train_data = all_data[:train_size]\n",
    "valid_data = all_data[train_size:train_size+valid_size]\n",
    "test_data = all_data[train_size+valid_size:]\n",
    "print(\"train data size\", train_data.shape)\n",
    "print(\"valid data size:\", valid_data.shape)\n",
    "print(\"test data size:\", test_data.shape)"
   ]
  },
  {
   "cell_type": "code",
   "execution_count": 13,
   "metadata": {},
   "outputs": [
    {
     "name": "stdout",
     "output_type": "stream",
     "text": [
      "valid accuracy:  0.5577889447236181\n"
     ]
    }
   ],
   "source": [
    "model = RandomForestClassifier()\n",
    "model = model.fit(train_data, df_train[\"Label\"])\n",
    "preds = model.predict(valid_data)\n",
    "acc = accuracy_score(df_valid['Label'], preds)\n",
    "print('valid accuracy: ', acc)"
   ]
  },
  {
   "cell_type": "code",
   "execution_count": 14,
   "metadata": {},
   "outputs": [
    {
     "name": "stdout",
     "output_type": "stream",
     "text": [
      "Random Forest accuracy:  0.5678391959798995\n"
     ]
    }
   ],
   "source": [
    "preds = model.predict(test_data)\n",
    "acc4 = accuracy_score(df_test['Label'], preds)\n",
    "print('Random Forest accuracy: ', acc4)\n",
    "acc_list.append(acc4)\n",
    "name_list.append(\"RF\")"
   ]
  },
  {
   "attachments": {},
   "cell_type": "markdown",
   "metadata": {},
   "source": [
    "## Gradient Boosting Machines"
   ]
  },
  {
   "cell_type": "code",
   "execution_count": 15,
   "metadata": {},
   "outputs": [
    {
     "name": "stdout",
     "output_type": "stream",
     "text": [
      "train data size (1591, 628)\n",
      "valid data size: (199, 628)\n",
      "test data size: (199, 628)\n"
     ]
    }
   ],
   "source": [
    "advancedvectorizer = TfidfVectorizer(min_df=0.03, max_df=0.9, max_features = 200000, ngram_range = (2, 3))\n",
    "all_data = advancedvectorizer.fit_transform(dataset)\n",
    "train_data = all_data[:train_size]\n",
    "valid_data = all_data[train_size:train_size+valid_size]\n",
    "test_data = all_data[train_size+valid_size:]\n",
    "print(\"train data size\", train_data.shape)\n",
    "print(\"valid data size:\", valid_data.shape)\n",
    "print(\"test data size:\", test_data.shape)"
   ]
  },
  {
   "cell_type": "code",
   "execution_count": 16,
   "metadata": {},
   "outputs": [
    {
     "name": "stdout",
     "output_type": "stream",
     "text": [
      "valid accuracy:  0.5276381909547738\n"
     ]
    }
   ],
   "source": [
    "model = GradientBoostingClassifier()\n",
    "model = model.fit(train_data, df_train[\"Label\"])\n",
    "preds = model.predict(valid_data)\n",
    "acc = accuracy_score(df_valid['Label'], preds)\n",
    "print('valid accuracy: ', acc)"
   ]
  },
  {
   "cell_type": "code",
   "execution_count": 17,
   "metadata": {},
   "outputs": [
    {
     "name": "stdout",
     "output_type": "stream",
     "text": [
      "GBM accuracy:  0.47738693467336685\n"
     ]
    }
   ],
   "source": [
    "preds = model.predict(test_data)\n",
    "acc5 = accuracy_score(df_test['Label'], preds)\n",
    "print('GBM accuracy: ', acc5)\n",
    "acc_list.append(acc5)\n",
    "name_list.append(\"GBM\")"
   ]
  },
  {
   "attachments": {},
   "cell_type": "markdown",
   "metadata": {},
   "source": [
    "## Stochastic Gradient Descent Classifier"
   ]
  },
  {
   "cell_type": "code",
   "execution_count": 18,
   "metadata": {},
   "outputs": [
    {
     "name": "stdout",
     "output_type": "stream",
     "text": [
      "train data size (1591, 595)\n",
      "valid data size: (199, 595)\n",
      "test data size: (199, 595)\n"
     ]
    }
   ],
   "source": [
    "advancedvectorizer = TfidfVectorizer(min_df=0.03, max_df=0.9, max_features = 200000, ngram_range = (2, 2))\n",
    "all_data = advancedvectorizer.fit_transform(dataset)\n",
    "train_data = all_data[:train_size]\n",
    "valid_data = all_data[train_size:train_size+valid_size]\n",
    "test_data = all_data[train_size+valid_size:]\n",
    "print(\"train data size\", train_data.shape)\n",
    "print(\"valid data size:\", valid_data.shape)\n",
    "print(\"test data size:\", test_data.shape)"
   ]
  },
  {
   "cell_type": "code",
   "execution_count": 19,
   "metadata": {},
   "outputs": [
    {
     "name": "stdout",
     "output_type": "stream",
     "text": [
      "valid accuracy:  0.5376884422110553\n"
     ]
    }
   ],
   "source": [
    "model = SGDClassifier(loss='modified_huber', random_state=0, shuffle=True)\n",
    "model = model.fit(train_data, df_train[\"Label\"])\n",
    "preds = model.predict(valid_data)\n",
    "acc = accuracy_score(df_valid['Label'], preds)\n",
    "print('valid accuracy: ', acc)"
   ]
  },
  {
   "cell_type": "code",
   "execution_count": 20,
   "metadata": {},
   "outputs": [
    {
     "name": "stdout",
     "output_type": "stream",
     "text": [
      "SGDClassifier accuracy:  0.5125628140703518\n"
     ]
    }
   ],
   "source": [
    "preds = model.predict(test_data)\n",
    "acc6 = accuracy_score(df_test['Label'], preds)\n",
    "print('SGDClassifier accuracy: ', acc6)\n",
    "acc_list.append(acc6)\n",
    "name_list.append(\"SGD\")"
   ]
  },
  {
   "attachments": {},
   "cell_type": "markdown",
   "metadata": {},
   "source": [
    "## SVM"
   ]
  },
  {
   "cell_type": "code",
   "execution_count": 21,
   "metadata": {},
   "outputs": [
    {
     "name": "stdout",
     "output_type": "stream",
     "text": [
      "train data size (1591, 628)\n",
      "valid data size: (199, 628)\n",
      "test data size: (199, 628)\n"
     ]
    }
   ],
   "source": [
    "advancedvectorizer = TfidfVectorizer(min_df=0.03, max_df=0.9, max_features = 200000, ngram_range = (2, 3))\n",
    "all_data = advancedvectorizer.fit_transform(dataset)\n",
    "train_data = all_data[:train_size]\n",
    "valid_data = all_data[train_size:train_size+valid_size]\n",
    "test_data = all_data[train_size+valid_size:]\n",
    "print(\"train data size\", train_data.shape)\n",
    "print(\"valid data size:\", valid_data.shape)\n",
    "print(\"test data size:\", test_data.shape)"
   ]
  },
  {
   "cell_type": "code",
   "execution_count": 22,
   "metadata": {},
   "outputs": [
    {
     "name": "stdout",
     "output_type": "stream",
     "text": [
      "valid accuracy:  0.5376884422110553\n"
     ]
    }
   ],
   "source": [
    "model = SVC()\n",
    "model = model.fit(train_data, df_train[\"Label\"])\n",
    "preds = model.predict(valid_data)\n",
    "acc = accuracy_score(df_valid['Label'], preds)\n",
    "print('valid accuracy: ', acc)"
   ]
  },
  {
   "cell_type": "code",
   "execution_count": 23,
   "metadata": {},
   "outputs": [
    {
     "name": "stdout",
     "output_type": "stream",
     "text": [
      "SGDClassifier accuracy:  0.6080402010050251\n"
     ]
    }
   ],
   "source": [
    "preds = model.predict(test_data)\n",
    "acc7 = accuracy_score(df_test['Label'], preds)\n",
    "print('SGDClassifier accuracy: ', acc7)\n",
    "acc_list.append(acc7)\n",
    "name_list.append(\"SVM\")"
   ]
  },
  {
   "attachments": {},
   "cell_type": "markdown",
   "metadata": {},
   "source": [
    "## MLP"
   ]
  },
  {
   "cell_type": "code",
   "execution_count": 24,
   "metadata": {},
   "outputs": [
    {
     "name": "stdout",
     "output_type": "stream",
     "text": [
      "train data size (1591, 628)\n",
      "valid data size: (199, 628)\n",
      "test data size: (199, 628)\n"
     ]
    }
   ],
   "source": [
    "advancedvectorizer = TfidfVectorizer(min_df=0.03, max_df=0.9, max_features = 200000, ngram_range = (2, 3))\n",
    "all_data = advancedvectorizer.fit_transform(dataset)\n",
    "train_data = all_data[:train_size]\n",
    "valid_data = all_data[train_size:train_size+valid_size]\n",
    "test_data = all_data[train_size+valid_size:]\n",
    "print(\"train data size\", train_data.shape)\n",
    "print(\"valid data size:\", valid_data.shape)\n",
    "print(\"test data size:\", test_data.shape)\n",
    "\n",
    "X_train = train_data.toarray()\n",
    "X_test = test_data.toarray()\n",
    "y_train = np.array(df_train[\"Label\"])\n",
    "y_test = np.array(df_test[\"Label\"])\n",
    "\n",
    "Y_train = np_utils.to_categorical(y_train, 2)\n",
    "Y_test = np_utils.to_categorical(y_test, 2)\n",
    "\n",
    "scale = np.max(X_train)\n",
    "X_train /= scale\n",
    "X_test /= scale\n",
    "\n",
    "mean = np.mean(X_train)\n",
    "X_train -= mean\n",
    "X_test -= mean\n",
    "\n",
    "input_size = X_train.shape[1]"
   ]
  },
  {
   "cell_type": "code",
   "execution_count": 25,
   "metadata": {},
   "outputs": [],
   "source": [
    "class MLP(nn.Module):\n",
    "    def __init__(self, input_size, hidden_size=(256,128)):\n",
    "        super().__init__()\n",
    "\n",
    "        self.linear1 = nn.Linear(input_size, hidden_size[0])\n",
    "        self.drop1 = nn.Dropout(0.4)\n",
    "        self.linear2 = nn.Linear(hidden_size[0], hidden_size[1])\n",
    "        self.drop2 = nn.Dropout(0.4)\n",
    "        self.linear3 = nn.Linear(hidden_size[1], 2)\n",
    "\n",
    "    def forward(self, x: torch.Tensor):\n",
    "        x = self.drop1(F.relu(self.linear1(x)))\n",
    "        x = self.drop2(F.relu(self.linear2(x)))\n",
    "        output = F.softmax(self.linear3(x), dim=-1)\n",
    "        \n",
    "        return output"
   ]
  },
  {
   "cell_type": "code",
   "execution_count": 26,
   "metadata": {},
   "outputs": [],
   "source": [
    "class MLPDataset(Dataset):\n",
    "    def __init__(self,data,label):\n",
    "        self.data = data\n",
    "        self.label = label\n",
    "\n",
    "    def __getitem__(self, idx):\n",
    "        label = self.label[idx]\n",
    "        data = self.data[idx]\n",
    "\n",
    "        return data, label\n",
    "\n",
    "    def __len__(self):\n",
    "        return len(self.data)"
   ]
  },
  {
   "cell_type": "code",
   "execution_count": 27,
   "metadata": {},
   "outputs": [],
   "source": [
    "# dataset\n",
    "train_dataset = MLPDataset(X_train,y_train)\n",
    "test_dataset = MLPDataset(X_test,y_test)\n",
    "\n",
    "train_dataloader = DataLoader(train_dataset, batch_size=32, shuffle=True)\n",
    "test_dataloader = DataLoader(test_dataset, batch_size=1, shuffle=False)\n",
    "\n",
    "# model\n",
    "device = 'cpu'\n",
    "model = MLP(input_size).to(device)\n",
    "optimizer = torch.optim.Adam(model.parameters(), lr=0.01)\n",
    "citerion = torch.nn.CrossEntropyLoss(reduction=\"sum\")\n",
    "\n",
    "# setting\n",
    "num_epoch = 2"
   ]
  },
  {
   "cell_type": "code",
   "execution_count": 28,
   "metadata": {},
   "outputs": [
    {
     "name": "stdout",
     "output_type": "stream",
     "text": [
      "Epoch 0. loss: 0.6929528713226318\n",
      "Epoch 1. loss: 0.6453937292098999\n"
     ]
    }
   ],
   "source": [
    "# train\n",
    "for epoch in range(num_epoch):\n",
    "    loss_sum = 0\n",
    "    dataset_len = len(train_dataloader.dataset)\n",
    "    for x, label in train_dataloader:\n",
    "        x = x.float().to(device)\n",
    "        label = label.to(device)\n",
    "        y = model(x)\n",
    "        loss = citerion(y, label)\n",
    "        optimizer.zero_grad()\n",
    "        loss.backward()\n",
    "        optimizer.step()\n",
    "        loss_sum += loss\n",
    "    print(f'Epoch {epoch}. loss: {loss_sum / dataset_len}')"
   ]
  },
  {
   "cell_type": "code",
   "execution_count": 29,
   "metadata": {},
   "outputs": [
    {
     "name": "stdout",
     "output_type": "stream",
     "text": [
      "MLP accuracy:  0.5979899497487438\n"
     ]
    }
   ],
   "source": [
    "# test\n",
    "preds = []\n",
    "model.eval()\n",
    "\n",
    "for x, label in test_dataloader:\n",
    "    x = x.float().to(device)\n",
    "    y = model(x)\n",
    "\n",
    "    y = torch.argmax(y)\n",
    "    preds.append(y.item())\n",
    "\n",
    "acc8 = accuracy_score(df_test['Label'], preds)\n",
    "print('MLP accuracy: ', acc8)\n",
    "acc_list.append(acc8)\n",
    "name_list.append(\"MLP\")"
   ]
  },
  {
   "attachments": {},
   "cell_type": "markdown",
   "metadata": {},
   "source": [
    "## RNN + Glove"
   ]
  },
  {
   "cell_type": "code",
   "execution_count": 30,
   "metadata": {},
   "outputs": [],
   "source": [
    "all_data = dataset\n",
    "train_data = all_data[:train_size]\n",
    "valid_data = all_data[train_size:train_size+valid_size]\n",
    "test_data = all_data[train_size+valid_size:]"
   ]
  },
  {
   "cell_type": "code",
   "execution_count": 31,
   "metadata": {},
   "outputs": [],
   "source": [
    "class RNNDataset(Dataset):\n",
    "    def __init__(self,data,label):\n",
    "        self.label = []\n",
    "        self.tokenize = get_tokenizer('basic_english')\n",
    "        self.glove = GloVe(name='6B', dim=300, cache=\"glove/\")\n",
    "\n",
    "        self.str2num = {0:[1,0], 1:[0,1]}\n",
    "\n",
    "        self.data = data\n",
    "        self.label = label\n",
    "\n",
    "    def __getitem__(self, idx):\n",
    "        sentence = self.tokenize(self.data[idx])\n",
    "        token = self.glove.get_vecs_by_tokens(sentence)\n",
    "\n",
    "        label = self.label[idx]\n",
    "        label = self.str2num[int(label)]\n",
    "\n",
    "        return token, label\n",
    "\n",
    "    def __len__(self):\n",
    "        return len(self.data)\n",
    "\n",
    "def collate_fn(batch):\n",
    "    x, y = zip(*batch)\n",
    "    x_pad = pad_sequence(x, batch_first=True)\n",
    "    y = torch.Tensor(y)\n",
    "    return x_pad, y"
   ]
  },
  {
   "cell_type": "code",
   "execution_count": 32,
   "metadata": {},
   "outputs": [],
   "source": [
    "class RNN(nn.Module):\n",
    "    def __init__(self, hidden_units=64, dropout_rate=0.0):\n",
    "        super().__init__()\n",
    "        self.rnn = nn.GRU(300, hidden_units, num_layers = 1, batch_first=True, bidirectional=False, dropout=dropout_rate)\n",
    "        self.linear = nn.Linear(hidden_units, 2)\n",
    "\n",
    "\n",
    "    def forward(self, x: torch.Tensor):\n",
    "        output, _ = self.rnn(x)\n",
    "        output = output[:, -1]\n",
    "        output = self.linear(output)\n",
    "\n",
    "        output = F.softmax(output, dim=-1)\n",
    "        \n",
    "        return output"
   ]
  },
  {
   "cell_type": "code",
   "execution_count": 33,
   "metadata": {},
   "outputs": [],
   "source": [
    "# dataset\n",
    "train_dataset = RNNDataset(train_data,df_train['Label'])\n",
    "test_dataset = RNNDataset(test_data,df_test['Label'])\n",
    "\n",
    "train_dataloader = DataLoader(train_dataset, batch_size=32, shuffle=True, collate_fn=collate_fn)\n",
    "test_dataloader = DataLoader(test_dataset, batch_size=1, shuffle=False, collate_fn=collate_fn)\n",
    "\n",
    "# model\n",
    "device = 'cpu'\n",
    "model = RNN().to(device)\n",
    "optimizer = torch.optim.Adam(model.parameters(), lr=0.01)\n",
    "citerion = torch.nn.CrossEntropyLoss(reduction=\"sum\")\n",
    "\n",
    "# setting\n",
    "num_epoch = 5"
   ]
  },
  {
   "cell_type": "code",
   "execution_count": 34,
   "metadata": {},
   "outputs": [
    {
     "name": "stdout",
     "output_type": "stream",
     "text": [
      "Epoch 0. loss: 0.6937993168830872\n",
      "Epoch 1. loss: 0.6915706992149353\n",
      "Epoch 2. loss: 0.6874226331710815\n",
      "Epoch 3. loss: 0.6858598589897156\n",
      "Epoch 4. loss: 0.6877363324165344\n"
     ]
    }
   ],
   "source": [
    "# train\n",
    "for epoch in range(num_epoch):\n",
    "    loss_sum = 0\n",
    "    dataset_len = len(train_dataloader.dataset)\n",
    "    for x, label in train_dataloader:\n",
    "        x = x.to(device)\n",
    "        label = label.to(device)\n",
    "        y = model(x)\n",
    "        loss = citerion(y, label)\n",
    "        optimizer.zero_grad()\n",
    "        loss.backward()\n",
    "        torch.nn.utils.clip_grad_norm_(model.parameters(), 0.5)\n",
    "        optimizer.step()\n",
    "        loss_sum += loss\n",
    "    print(f'Epoch {epoch}. loss: {loss_sum / dataset_len}')\n"
   ]
  },
  {
   "cell_type": "code",
   "execution_count": 35,
   "metadata": {},
   "outputs": [
    {
     "name": "stdout",
     "output_type": "stream",
     "text": [
      "RNN accuracy:  0.5276381909547738\n"
     ]
    }
   ],
   "source": [
    "# test\n",
    "preds = []\n",
    "model.eval()\n",
    "\n",
    "for x, label in test_dataloader:\n",
    "    x = x.to(device)\n",
    "    y = model(x)\n",
    "\n",
    "    y = torch.argmax(y)\n",
    "    preds.append(y.item())\n",
    "\n",
    "acc9 = accuracy_score(df_test['Label'], preds)\n",
    "print('RNN accuracy: ', acc9)\n",
    "acc_list.append(acc9)\n",
    "name_list.append(\"RNN\")"
   ]
  },
  {
   "attachments": {},
   "cell_type": "markdown",
   "metadata": {},
   "source": [
    "## visualization"
   ]
  },
  {
   "cell_type": "code",
   "execution_count": 36,
   "metadata": {},
   "outputs": [
    {
     "data": {
      "image/png": "[encoded data removed]",
      "text/plain": [
       "<Figure size 640x480 with 1 Axes>"
      ]
     },
     "metadata": {},
     "output_type": "display_data"
    }
   ],
   "source": [
    "plt.bar(name_list, acc_list)\n",
    "\n",
    "plt.show()"
   ]
  }
 ],
 "metadata": {
  "kernelspec": {
   "display_name": "lxz",
   "language": "python",
   "name": "python3"
  },
  "language_info": {
   "codemirror_mode": {
    "name": "ipython",
    "version": 3
   },
   "file_extension": ".py",
   "mimetype": "text/x-python",
   "name": "python",
   "nbconvert_exporter": "python",
   "pygments_lexer": "ipython3",
   "version": "3.7.13"
  },
  "orig_nbformat": 4
 },
 "nbformat": 4,
 "nbformat_minor": 2
}
